{
 "cells": [
  {
   "cell_type": "markdown",
   "metadata": {},
   "source": [
    "### 1. Notebook Overview (Markdown) "
   ]
  },
  {
   "cell_type": "markdown",
   "metadata": {},
   "source": [
    "#### 📊 Trader Behavior Insights – Data Science Assignment\n",
    "\n",
    "##### 👨‍💻 Role: Junior Data Scientist – Trader Behavior Insights  \n",
    "Organization: Bajarangs / PrimeTrade.ai  \n",
    "Objective: Explore the relationship between trader performance and Bitcoin market sentiment to uncover patterns that can inform smarter trading strategies in the Web3 trading ecosystem.\n",
    "\n",
    "##### 🧭 Project Overview\n",
    "This analysis investigates how market sentiment (Fear vs Greed) influences trader performance on the Hyperliquid platform.  \n",
    "By merging sentiment data with historical trader transactions, we aim to identify behavioral patterns, assess risk tendencies, and highlight actionable insights that could improve profitability and decision-making.\n",
    "\n",
    "##### 🧩 Datasets Used\n",
    "\n",
    "##### 1. Bitcoin Market Sentiment Dataset  \n",
    "Source: [Google Drive – Fear Greed Index](https://drive.google.com/file/d/1PgQC0tO8XN-wqkNyghWc_-mnrYv_nhSf/view?usp=sharing)\n",
    "\n",
    "##### 2. Historical Trader Data – Hyperliquid  \n",
    "Source: [Google Drive – Historical Data](https://drive.google.com/file/d/1IAfLZwu6rJzyWKgBToqwSmmVYU6VbjVs/view?usp=sharing)\n",
    "\n",
    "##### 🎯 Key Objectives\n",
    "1. Merge and synchronize both datasets by date.  \n",
    "2. Analyze trader performance during Fear and Greed phases.  \n",
    "3. Identify behavioral trends such as leverage usage, trade frequency, and risk exposure.  \n",
    "4. Visualize and interpret insights that correlate market psychology with trading outcomes.  \n",
    "5. Provide data-driven recommendations to enhance trading strategies.\n",
    "\n",
    "##### 🧰 Tools & Environment\n",
    "- Python 3.10+ \n",
    "- Libraries:Pandas, NumPy, Matplotlib, Seaborn, Scikit-learn  \n",
    "- Platform: Jupyter Notebook "
   ]
  },
  {
   "cell_type": "markdown",
   "metadata": {},
   "source": [
    "### 2. Import Libraries (Code Cell) "
   ]
  },
  {
   "cell_type": "code",
   "execution_count": 1,
   "metadata": {},
   "outputs": [],
   "source": [
    "# Import all necessary libraries\n",
    "import pandas as pd\n",
    "import numpy as np\n",
    "import matplotlib.pyplot as plt\n",
    "import seaborn as sns\n",
    "from sklearn.model_selection import train_test_split\n",
    "from sklearn.ensemble import RandomForestClassifier\n",
    "from sklearn.metrics import classification_report\n",
    "\n",
    "# Configure display and style\n",
    "pd.set_option('display.max_columns', None)\n",
    "sns.set(style='whitegrid')"
   ]
  },
  {
   "cell_type": "markdown",
   "metadata": {},
   "source": [
    "### 3. Load the Datasets (Markdown + Code) "
   ]
  },
  {
   "cell_type": "markdown",
   "metadata": {},
   "source": [
    "#### 📥 2. Data Loading\n",
    "\n",
    "We will load both datasets:\n",
    "1. Hyperliquid Trader Data – contains individual trade records.  \n",
    "2. Fear & Greed Index – daily market sentiment classification.\n",
    "\n",
    "We will inspect their structure, column names, and data types."
   ]
  },
  {
   "cell_type": "code",
   "execution_count": 3,
   "metadata": {},
   "outputs": [
    {
     "name": "stdout",
     "output_type": "stream",
     "text": [
      "Trader Data Sample:\n"
     ]
    },
    {
     "data": {
      "text/html": [
       "<div>\n",
       "<style scoped>\n",
       "    .dataframe tbody tr th:only-of-type {\n",
       "        vertical-align: middle;\n",
       "    }\n",
       "\n",
       "    .dataframe tbody tr th {\n",
       "        vertical-align: top;\n",
       "    }\n",
       "\n",
       "    .dataframe thead th {\n",
       "        text-align: right;\n",
       "    }\n",
       "</style>\n",
       "<table border=\"1\" class=\"dataframe\">\n",
       "  <thead>\n",
       "    <tr style=\"text-align: right;\">\n",
       "      <th></th>\n",
       "      <th>Account</th>\n",
       "      <th>Coin</th>\n",
       "      <th>Execution Price</th>\n",
       "      <th>Size Tokens</th>\n",
       "      <th>Size USD</th>\n",
       "      <th>Side</th>\n",
       "      <th>Timestamp IST</th>\n",
       "      <th>Start Position</th>\n",
       "      <th>Direction</th>\n",
       "      <th>Closed PnL</th>\n",
       "      <th>Transaction Hash</th>\n",
       "      <th>Order ID</th>\n",
       "      <th>Crossed</th>\n",
       "      <th>Fee</th>\n",
       "      <th>Trade ID</th>\n",
       "      <th>Timestamp</th>\n",
       "    </tr>\n",
       "  </thead>\n",
       "  <tbody>\n",
       "    <tr>\n",
       "      <th>0</th>\n",
       "      <td>0xae5eacaf9c6b9111fd53034a602c192a04e082ed</td>\n",
       "      <td>@107</td>\n",
       "      <td>7.9769</td>\n",
       "      <td>986.87</td>\n",
       "      <td>7872.16</td>\n",
       "      <td>BUY</td>\n",
       "      <td>02-12-2024 22:50</td>\n",
       "      <td>0.000000</td>\n",
       "      <td>Buy</td>\n",
       "      <td>0.0</td>\n",
       "      <td>0xec09451986a1874e3a980418412fcd0201f500c95bac...</td>\n",
       "      <td>52017706630</td>\n",
       "      <td>True</td>\n",
       "      <td>0.345404</td>\n",
       "      <td>8.950000e+14</td>\n",
       "      <td>1.730000e+12</td>\n",
       "    </tr>\n",
       "    <tr>\n",
       "      <th>1</th>\n",
       "      <td>0xae5eacaf9c6b9111fd53034a602c192a04e082ed</td>\n",
       "      <td>@107</td>\n",
       "      <td>7.9800</td>\n",
       "      <td>16.00</td>\n",
       "      <td>127.68</td>\n",
       "      <td>BUY</td>\n",
       "      <td>02-12-2024 22:50</td>\n",
       "      <td>986.524596</td>\n",
       "      <td>Buy</td>\n",
       "      <td>0.0</td>\n",
       "      <td>0xec09451986a1874e3a980418412fcd0201f500c95bac...</td>\n",
       "      <td>52017706630</td>\n",
       "      <td>True</td>\n",
       "      <td>0.005600</td>\n",
       "      <td>4.430000e+14</td>\n",
       "      <td>1.730000e+12</td>\n",
       "    </tr>\n",
       "    <tr>\n",
       "      <th>2</th>\n",
       "      <td>0xae5eacaf9c6b9111fd53034a602c192a04e082ed</td>\n",
       "      <td>@107</td>\n",
       "      <td>7.9855</td>\n",
       "      <td>144.09</td>\n",
       "      <td>1150.63</td>\n",
       "      <td>BUY</td>\n",
       "      <td>02-12-2024 22:50</td>\n",
       "      <td>1002.518996</td>\n",
       "      <td>Buy</td>\n",
       "      <td>0.0</td>\n",
       "      <td>0xec09451986a1874e3a980418412fcd0201f500c95bac...</td>\n",
       "      <td>52017706630</td>\n",
       "      <td>True</td>\n",
       "      <td>0.050431</td>\n",
       "      <td>6.600000e+14</td>\n",
       "      <td>1.730000e+12</td>\n",
       "    </tr>\n",
       "    <tr>\n",
       "      <th>3</th>\n",
       "      <td>0xae5eacaf9c6b9111fd53034a602c192a04e082ed</td>\n",
       "      <td>@107</td>\n",
       "      <td>7.9874</td>\n",
       "      <td>142.98</td>\n",
       "      <td>1142.04</td>\n",
       "      <td>BUY</td>\n",
       "      <td>02-12-2024 22:50</td>\n",
       "      <td>1146.558564</td>\n",
       "      <td>Buy</td>\n",
       "      <td>0.0</td>\n",
       "      <td>0xec09451986a1874e3a980418412fcd0201f500c95bac...</td>\n",
       "      <td>52017706630</td>\n",
       "      <td>True</td>\n",
       "      <td>0.050043</td>\n",
       "      <td>1.080000e+15</td>\n",
       "      <td>1.730000e+12</td>\n",
       "    </tr>\n",
       "    <tr>\n",
       "      <th>4</th>\n",
       "      <td>0xae5eacaf9c6b9111fd53034a602c192a04e082ed</td>\n",
       "      <td>@107</td>\n",
       "      <td>7.9894</td>\n",
       "      <td>8.73</td>\n",
       "      <td>69.75</td>\n",
       "      <td>BUY</td>\n",
       "      <td>02-12-2024 22:50</td>\n",
       "      <td>1289.488521</td>\n",
       "      <td>Buy</td>\n",
       "      <td>0.0</td>\n",
       "      <td>0xec09451986a1874e3a980418412fcd0201f500c95bac...</td>\n",
       "      <td>52017706630</td>\n",
       "      <td>True</td>\n",
       "      <td>0.003055</td>\n",
       "      <td>1.050000e+15</td>\n",
       "      <td>1.730000e+12</td>\n",
       "    </tr>\n",
       "  </tbody>\n",
       "</table>\n",
       "</div>"
      ],
      "text/plain": [
       "                                      Account  Coin  Execution Price  \\\n",
       "0  0xae5eacaf9c6b9111fd53034a602c192a04e082ed  @107           7.9769   \n",
       "1  0xae5eacaf9c6b9111fd53034a602c192a04e082ed  @107           7.9800   \n",
       "2  0xae5eacaf9c6b9111fd53034a602c192a04e082ed  @107           7.9855   \n",
       "3  0xae5eacaf9c6b9111fd53034a602c192a04e082ed  @107           7.9874   \n",
       "4  0xae5eacaf9c6b9111fd53034a602c192a04e082ed  @107           7.9894   \n",
       "\n",
       "   Size Tokens  Size USD Side     Timestamp IST  Start Position Direction  \\\n",
       "0       986.87   7872.16  BUY  02-12-2024 22:50        0.000000       Buy   \n",
       "1        16.00    127.68  BUY  02-12-2024 22:50      986.524596       Buy   \n",
       "2       144.09   1150.63  BUY  02-12-2024 22:50     1002.518996       Buy   \n",
       "3       142.98   1142.04  BUY  02-12-2024 22:50     1146.558564       Buy   \n",
       "4         8.73     69.75  BUY  02-12-2024 22:50     1289.488521       Buy   \n",
       "\n",
       "   Closed PnL                                   Transaction Hash     Order ID  \\\n",
       "0         0.0  0xec09451986a1874e3a980418412fcd0201f500c95bac...  52017706630   \n",
       "1         0.0  0xec09451986a1874e3a980418412fcd0201f500c95bac...  52017706630   \n",
       "2         0.0  0xec09451986a1874e3a980418412fcd0201f500c95bac...  52017706630   \n",
       "3         0.0  0xec09451986a1874e3a980418412fcd0201f500c95bac...  52017706630   \n",
       "4         0.0  0xec09451986a1874e3a980418412fcd0201f500c95bac...  52017706630   \n",
       "\n",
       "   Crossed       Fee      Trade ID     Timestamp  \n",
       "0     True  0.345404  8.950000e+14  1.730000e+12  \n",
       "1     True  0.005600  4.430000e+14  1.730000e+12  \n",
       "2     True  0.050431  6.600000e+14  1.730000e+12  \n",
       "3     True  0.050043  1.080000e+15  1.730000e+12  \n",
       "4     True  0.003055  1.050000e+15  1.730000e+12  "
      ]
     },
     "metadata": {},
     "output_type": "display_data"
    },
    {
     "name": "stdout",
     "output_type": "stream",
     "text": [
      "\n",
      "Sentiment Data Sample:\n"
     ]
    },
    {
     "data": {
      "text/html": [
       "<div>\n",
       "<style scoped>\n",
       "    .dataframe tbody tr th:only-of-type {\n",
       "        vertical-align: middle;\n",
       "    }\n",
       "\n",
       "    .dataframe tbody tr th {\n",
       "        vertical-align: top;\n",
       "    }\n",
       "\n",
       "    .dataframe thead th {\n",
       "        text-align: right;\n",
       "    }\n",
       "</style>\n",
       "<table border=\"1\" class=\"dataframe\">\n",
       "  <thead>\n",
       "    <tr style=\"text-align: right;\">\n",
       "      <th></th>\n",
       "      <th>timestamp</th>\n",
       "      <th>value</th>\n",
       "      <th>classification</th>\n",
       "      <th>date</th>\n",
       "    </tr>\n",
       "  </thead>\n",
       "  <tbody>\n",
       "    <tr>\n",
       "      <th>0</th>\n",
       "      <td>1517463000</td>\n",
       "      <td>30</td>\n",
       "      <td>Fear</td>\n",
       "      <td>2018-02-01</td>\n",
       "    </tr>\n",
       "    <tr>\n",
       "      <th>1</th>\n",
       "      <td>1517549400</td>\n",
       "      <td>15</td>\n",
       "      <td>Extreme Fear</td>\n",
       "      <td>2018-02-02</td>\n",
       "    </tr>\n",
       "    <tr>\n",
       "      <th>2</th>\n",
       "      <td>1517635800</td>\n",
       "      <td>40</td>\n",
       "      <td>Fear</td>\n",
       "      <td>2018-02-03</td>\n",
       "    </tr>\n",
       "    <tr>\n",
       "      <th>3</th>\n",
       "      <td>1517722200</td>\n",
       "      <td>24</td>\n",
       "      <td>Extreme Fear</td>\n",
       "      <td>2018-02-04</td>\n",
       "    </tr>\n",
       "    <tr>\n",
       "      <th>4</th>\n",
       "      <td>1517808600</td>\n",
       "      <td>11</td>\n",
       "      <td>Extreme Fear</td>\n",
       "      <td>2018-02-05</td>\n",
       "    </tr>\n",
       "  </tbody>\n",
       "</table>\n",
       "</div>"
      ],
      "text/plain": [
       "    timestamp  value classification        date\n",
       "0  1517463000     30           Fear  2018-02-01\n",
       "1  1517549400     15   Extreme Fear  2018-02-02\n",
       "2  1517635800     40           Fear  2018-02-03\n",
       "3  1517722200     24   Extreme Fear  2018-02-04\n",
       "4  1517808600     11   Extreme Fear  2018-02-05"
      ]
     },
     "metadata": {},
     "output_type": "display_data"
    }
   ],
   "source": [
    "# Load the datasets (update filenames if needed)\n",
    "trader_df = pd.read_csv('historical_data.csv')\n",
    "sentiment_df = pd.read_csv('fear_greed_index.csv')\n",
    "\n",
    "# Display first few rows\n",
    "print(\"Trader Data Sample:\")\n",
    "display(trader_df.head())\n",
    "\n",
    "print(\"\\nSentiment Data Sample:\")\n",
    "display(sentiment_df.head())"
   ]
  },
  {
   "cell_type": "markdown",
   "metadata": {},
   "source": [
    "#### 🧹 3. Data Cleaning and Preparation\n",
    "\n",
    "We'll:\n",
    "- Check for missing values.\n",
    "- Convert date/time columns to proper datetime objects.\n",
    "- Ensure both datasets can be merged by date."
   ]
  },
  {
   "cell_type": "code",
   "execution_count": 5,
   "metadata": {},
   "outputs": [
    {
     "name": "stdout",
     "output_type": "stream",
     "text": [
      "Trader Data Info:\n",
      "<class 'pandas.core.frame.DataFrame'>\n",
      "RangeIndex: 211224 entries, 0 to 211223\n",
      "Data columns (total 16 columns):\n",
      " #   Column            Non-Null Count   Dtype  \n",
      "---  ------            --------------   -----  \n",
      " 0   Account           211224 non-null  object \n",
      " 1   Coin              211224 non-null  object \n",
      " 2   Execution Price   211224 non-null  float64\n",
      " 3   Size Tokens       211224 non-null  float64\n",
      " 4   Size USD          211224 non-null  float64\n",
      " 5   Side              211224 non-null  object \n",
      " 6   Timestamp IST     211224 non-null  object \n",
      " 7   Start Position    211224 non-null  float64\n",
      " 8   Direction         211224 non-null  object \n",
      " 9   Closed PnL        211224 non-null  float64\n",
      " 10  Transaction Hash  211224 non-null  object \n",
      " 11  Order ID          211224 non-null  int64  \n",
      " 12  Crossed           211224 non-null  bool   \n",
      " 13  Fee               211224 non-null  float64\n",
      " 14  Trade ID          211224 non-null  float64\n",
      " 15  Timestamp         211224 non-null  float64\n",
      "dtypes: bool(1), float64(8), int64(1), object(6)\n",
      "memory usage: 24.4+ MB\n",
      "\n",
      "Sentiment Data Info:\n",
      "<class 'pandas.core.frame.DataFrame'>\n",
      "RangeIndex: 2644 entries, 0 to 2643\n",
      "Data columns (total 4 columns):\n",
      " #   Column          Non-Null Count  Dtype \n",
      "---  ------          --------------  ----- \n",
      " 0   timestamp       2644 non-null   int64 \n",
      " 1   value           2644 non-null   int64 \n",
      " 2   classification  2644 non-null   object\n",
      " 3   date            2644 non-null   object\n",
      "dtypes: int64(2), object(2)\n",
      "memory usage: 82.8+ KB\n"
     ]
    }
   ],
   "source": [
    "# Check info\n",
    "print(\"Trader Data Info:\")\n",
    "trader_df.info()\n",
    "\n",
    "print(\"\\nSentiment Data Info:\")\n",
    "sentiment_df.info()\n",
    "\n",
    "# Convert timestamp columns properly\n",
    "trader_df['Timestamp IST'] = pd.to_datetime(trader_df['Timestamp IST'], errors='coerce')\n",
    "\n",
    "# Convert sentiment date column\n",
    "sentiment_df['date'] = pd.to_datetime(sentiment_df['date'], errors='coerce')\n",
    "\n",
    "# Create simplified 'date' column in trader data for merging\n",
    "trader_df['date'] = trader_df['Timestamp IST'].dt.date\n",
    "\n",
    "# Drop rows with missing key data\n",
    "trader_df.dropna(subset=['Closed PnL'], inplace=True)\n"
   ]
  },
  {
   "cell_type": "markdown",
   "metadata": {},
   "source": [
    "### 5. Merge Datasets "
   ]
  },
  {
   "cell_type": "markdown",
   "metadata": {},
   "source": [
    "#### 🔗 4. Merging Market Sentiment with Trader Data\n",
    "We’ll merge on the `date` column so each trade inherits the sentiment classification (Fear or Greed) for that day."
   ]
  },
  {
   "cell_type": "code",
   "execution_count": 10,
   "metadata": {},
   "outputs": [
    {
     "data": {
      "text/html": [
       "<div>\n",
       "<style scoped>\n",
       "    .dataframe tbody tr th:only-of-type {\n",
       "        vertical-align: middle;\n",
       "    }\n",
       "\n",
       "    .dataframe tbody tr th {\n",
       "        vertical-align: top;\n",
       "    }\n",
       "\n",
       "    .dataframe thead th {\n",
       "        text-align: right;\n",
       "    }\n",
       "</style>\n",
       "<table border=\"1\" class=\"dataframe\">\n",
       "  <thead>\n",
       "    <tr style=\"text-align: right;\">\n",
       "      <th></th>\n",
       "      <th>Timestamp IST</th>\n",
       "      <th>account</th>\n",
       "      <th>symbol</th>\n",
       "      <th>closedPnL</th>\n",
       "      <th>Classification</th>\n",
       "    </tr>\n",
       "  </thead>\n",
       "  <tbody>\n",
       "    <tr>\n",
       "      <th>0</th>\n",
       "      <td>2024-02-12 22:50:00</td>\n",
       "      <td>0xae5eacaf9c6b9111fd53034a602c192a04e082ed</td>\n",
       "      <td>@107</td>\n",
       "      <td>0.0</td>\n",
       "      <td>Greed</td>\n",
       "    </tr>\n",
       "    <tr>\n",
       "      <th>1</th>\n",
       "      <td>2024-02-12 22:50:00</td>\n",
       "      <td>0xae5eacaf9c6b9111fd53034a602c192a04e082ed</td>\n",
       "      <td>@107</td>\n",
       "      <td>0.0</td>\n",
       "      <td>Greed</td>\n",
       "    </tr>\n",
       "    <tr>\n",
       "      <th>2</th>\n",
       "      <td>2024-02-12 22:50:00</td>\n",
       "      <td>0xae5eacaf9c6b9111fd53034a602c192a04e082ed</td>\n",
       "      <td>@107</td>\n",
       "      <td>0.0</td>\n",
       "      <td>Greed</td>\n",
       "    </tr>\n",
       "    <tr>\n",
       "      <th>3</th>\n",
       "      <td>2024-02-12 22:50:00</td>\n",
       "      <td>0xae5eacaf9c6b9111fd53034a602c192a04e082ed</td>\n",
       "      <td>@107</td>\n",
       "      <td>0.0</td>\n",
       "      <td>Greed</td>\n",
       "    </tr>\n",
       "    <tr>\n",
       "      <th>4</th>\n",
       "      <td>2024-02-12 22:50:00</td>\n",
       "      <td>0xae5eacaf9c6b9111fd53034a602c192a04e082ed</td>\n",
       "      <td>@107</td>\n",
       "      <td>0.0</td>\n",
       "      <td>Greed</td>\n",
       "    </tr>\n",
       "  </tbody>\n",
       "</table>\n",
       "</div>"
      ],
      "text/plain": [
       "        Timestamp IST                                     account symbol  \\\n",
       "0 2024-02-12 22:50:00  0xae5eacaf9c6b9111fd53034a602c192a04e082ed   @107   \n",
       "1 2024-02-12 22:50:00  0xae5eacaf9c6b9111fd53034a602c192a04e082ed   @107   \n",
       "2 2024-02-12 22:50:00  0xae5eacaf9c6b9111fd53034a602c192a04e082ed   @107   \n",
       "3 2024-02-12 22:50:00  0xae5eacaf9c6b9111fd53034a602c192a04e082ed   @107   \n",
       "4 2024-02-12 22:50:00  0xae5eacaf9c6b9111fd53034a602c192a04e082ed   @107   \n",
       "\n",
       "   closedPnL Classification  \n",
       "0        0.0          Greed  \n",
       "1        0.0          Greed  \n",
       "2        0.0          Greed  \n",
       "3        0.0          Greed  \n",
       "4        0.0          Greed  "
      ]
     },
     "execution_count": 10,
     "metadata": {},
     "output_type": "execute_result"
    }
   ],
   "source": [
    "# Convert both 'date' columns to datetime64[ns]\n",
    "trader_df['date'] = pd.to_datetime(trader_df['Timestamp IST']).dt.normalize()\n",
    "sentiment_df['date'] = pd.to_datetime(sentiment_df['date']).dt.normalize()\n",
    "\n",
    "#  merge\n",
    "merged_df = pd.merge(\n",
    "    trader_df,\n",
    "    sentiment_df[['date', 'classification']],\n",
    "    on='date',\n",
    "    how='left'\n",
    ")\n",
    "merged_df.rename(columns={\n",
    "    'Account': 'account',\n",
    "    'Coin': 'symbol',\n",
    "    'Closed PnL': 'closedPnL',\n",
    "    'classification': 'Classification'\n",
    "}, inplace=True)\n",
    "\n",
    "# Check merged dataframe\n",
    "merged_df[['Timestamp IST', 'account', 'symbol', 'closedPnL', 'Classification']].head()\n"
   ]
  },
  {
   "cell_type": "markdown",
   "metadata": {},
   "source": [
    "### 6. Exploratory Data Analysis (EDA) "
   ]
  },
  {
   "cell_type": "markdown",
   "metadata": {},
   "source": [
    "#### 📊 5. Exploratory Data Analysis\n",
    "\n",
    "We’ll explore how trader performance and risk behavior change between Fear and Greed markets."
   ]
  },
  {
   "cell_type": "markdown",
   "metadata": {},
   "source": [
    "#### (a) Overall Summary "
   ]
  },
  {
   "cell_type": "code",
   "execution_count": 11,
   "metadata": {},
   "outputs": [
    {
     "data": {
      "text/html": [
       "<div>\n",
       "<style scoped>\n",
       "    .dataframe tbody tr th:only-of-type {\n",
       "        vertical-align: middle;\n",
       "    }\n",
       "\n",
       "    .dataframe tbody tr th {\n",
       "        vertical-align: top;\n",
       "    }\n",
       "\n",
       "    .dataframe thead th {\n",
       "        text-align: right;\n",
       "    }\n",
       "</style>\n",
       "<table border=\"1\" class=\"dataframe\">\n",
       "  <thead>\n",
       "    <tr style=\"text-align: right;\">\n",
       "      <th></th>\n",
       "      <th>Execution Price</th>\n",
       "      <th>Size Tokens</th>\n",
       "      <th>Size USD</th>\n",
       "      <th>Start Position</th>\n",
       "      <th>closedPnL</th>\n",
       "      <th>Order ID</th>\n",
       "      <th>Fee</th>\n",
       "      <th>Trade ID</th>\n",
       "      <th>Timestamp</th>\n",
       "    </tr>\n",
       "  </thead>\n",
       "  <tbody>\n",
       "    <tr>\n",
       "      <th>count</th>\n",
       "      <td>211224.000000</td>\n",
       "      <td>2.112240e+05</td>\n",
       "      <td>2.112240e+05</td>\n",
       "      <td>2.112240e+05</td>\n",
       "      <td>211224.000000</td>\n",
       "      <td>2.112240e+05</td>\n",
       "      <td>211224.000000</td>\n",
       "      <td>2.112240e+05</td>\n",
       "      <td>2.112240e+05</td>\n",
       "    </tr>\n",
       "    <tr>\n",
       "      <th>mean</th>\n",
       "      <td>11414.723350</td>\n",
       "      <td>4.623365e+03</td>\n",
       "      <td>5.639451e+03</td>\n",
       "      <td>-2.994625e+04</td>\n",
       "      <td>48.749001</td>\n",
       "      <td>6.965388e+10</td>\n",
       "      <td>1.163967</td>\n",
       "      <td>5.628549e+14</td>\n",
       "      <td>1.737744e+12</td>\n",
       "    </tr>\n",
       "    <tr>\n",
       "      <th>std</th>\n",
       "      <td>29447.654868</td>\n",
       "      <td>1.042729e+05</td>\n",
       "      <td>3.657514e+04</td>\n",
       "      <td>6.738074e+05</td>\n",
       "      <td>919.164828</td>\n",
       "      <td>1.835753e+10</td>\n",
       "      <td>6.758854</td>\n",
       "      <td>3.257565e+14</td>\n",
       "      <td>8.689920e+09</td>\n",
       "    </tr>\n",
       "    <tr>\n",
       "      <th>min</th>\n",
       "      <td>0.000005</td>\n",
       "      <td>8.740000e-07</td>\n",
       "      <td>0.000000e+00</td>\n",
       "      <td>-1.433463e+07</td>\n",
       "      <td>-117990.104100</td>\n",
       "      <td>1.732711e+08</td>\n",
       "      <td>-1.175712</td>\n",
       "      <td>0.000000e+00</td>\n",
       "      <td>1.680000e+12</td>\n",
       "    </tr>\n",
       "    <tr>\n",
       "      <th>25%</th>\n",
       "      <td>4.854700</td>\n",
       "      <td>2.940000e+00</td>\n",
       "      <td>1.937900e+02</td>\n",
       "      <td>-3.762311e+02</td>\n",
       "      <td>0.000000</td>\n",
       "      <td>5.983853e+10</td>\n",
       "      <td>0.016121</td>\n",
       "      <td>2.810000e+14</td>\n",
       "      <td>1.740000e+12</td>\n",
       "    </tr>\n",
       "    <tr>\n",
       "      <th>50%</th>\n",
       "      <td>18.280000</td>\n",
       "      <td>3.200000e+01</td>\n",
       "      <td>5.970450e+02</td>\n",
       "      <td>8.472793e+01</td>\n",
       "      <td>0.000000</td>\n",
       "      <td>7.442939e+10</td>\n",
       "      <td>0.089578</td>\n",
       "      <td>5.620000e+14</td>\n",
       "      <td>1.740000e+12</td>\n",
       "    </tr>\n",
       "    <tr>\n",
       "      <th>75%</th>\n",
       "      <td>101.580000</td>\n",
       "      <td>1.879025e+02</td>\n",
       "      <td>2.058960e+03</td>\n",
       "      <td>9.337278e+03</td>\n",
       "      <td>5.792797</td>\n",
       "      <td>8.335543e+10</td>\n",
       "      <td>0.393811</td>\n",
       "      <td>8.460000e+14</td>\n",
       "      <td>1.740000e+12</td>\n",
       "    </tr>\n",
       "    <tr>\n",
       "      <th>max</th>\n",
       "      <td>109004.000000</td>\n",
       "      <td>1.582244e+07</td>\n",
       "      <td>3.921431e+06</td>\n",
       "      <td>3.050948e+07</td>\n",
       "      <td>135329.090100</td>\n",
       "      <td>9.014923e+10</td>\n",
       "      <td>837.471593</td>\n",
       "      <td>1.130000e+15</td>\n",
       "      <td>1.750000e+12</td>\n",
       "    </tr>\n",
       "  </tbody>\n",
       "</table>\n",
       "</div>"
      ],
      "text/plain": [
       "       Execution Price   Size Tokens      Size USD  Start Position  \\\n",
       "count    211224.000000  2.112240e+05  2.112240e+05    2.112240e+05   \n",
       "mean      11414.723350  4.623365e+03  5.639451e+03   -2.994625e+04   \n",
       "std       29447.654868  1.042729e+05  3.657514e+04    6.738074e+05   \n",
       "min           0.000005  8.740000e-07  0.000000e+00   -1.433463e+07   \n",
       "25%           4.854700  2.940000e+00  1.937900e+02   -3.762311e+02   \n",
       "50%          18.280000  3.200000e+01  5.970450e+02    8.472793e+01   \n",
       "75%         101.580000  1.879025e+02  2.058960e+03    9.337278e+03   \n",
       "max      109004.000000  1.582244e+07  3.921431e+06    3.050948e+07   \n",
       "\n",
       "           closedPnL      Order ID            Fee      Trade ID     Timestamp  \n",
       "count  211224.000000  2.112240e+05  211224.000000  2.112240e+05  2.112240e+05  \n",
       "mean       48.749001  6.965388e+10       1.163967  5.628549e+14  1.737744e+12  \n",
       "std       919.164828  1.835753e+10       6.758854  3.257565e+14  8.689920e+09  \n",
       "min   -117990.104100  1.732711e+08      -1.175712  0.000000e+00  1.680000e+12  \n",
       "25%         0.000000  5.983853e+10       0.016121  2.810000e+14  1.740000e+12  \n",
       "50%         0.000000  7.442939e+10       0.089578  5.620000e+14  1.740000e+12  \n",
       "75%         5.792797  8.335543e+10       0.393811  8.460000e+14  1.740000e+12  \n",
       "max    135329.090100  9.014923e+10     837.471593  1.130000e+15  1.750000e+12  "
      ]
     },
     "execution_count": 11,
     "metadata": {},
     "output_type": "execute_result"
    }
   ],
   "source": [
    "# Quick summary statistics\n",
    "merged_df.describe()"
   ]
  },
  {
   "cell_type": "markdown",
   "metadata": {},
   "source": [
    "####  (b) Profitability by Sentiment "
   ]
  },
  {
   "cell_type": "code",
   "execution_count": 12,
   "metadata": {},
   "outputs": [
    {
     "data": {
      "image/png": "[encoded data removed]",
      "text/plain": [
       "<Figure size 432x288 with 1 Axes>"
      ]
     },
     "metadata": {},
     "output_type": "display_data"
    }
   ],
   "source": [
    "# Mean PnL by sentiment\n",
    "avg_pnl = merged_df.groupby('Classification')['closedPnL'].mean().reset_index()\n",
    "sns.barplot(x='Classification', y='closedPnL', data=avg_pnl, palette='coolwarm')\n",
    "plt.title('Average Trader Profit (Closed PnL) by Market Sentiment')\n",
    "plt.show()"
   ]
  },
  {
   "cell_type": "markdown",
   "metadata": {},
   "source": [
    "#### (c) Leverage by Sentiment "
   ]
  },
  {
   "cell_type": "code",
   "execution_count": 16,
   "metadata": {
    "scrolled": true
   },
   "outputs": [
    {
     "data": {
      "image/png": "[encoded data removed]",
      "text/plain": [
       "<Figure size 432x288 with 1 Axes>"
      ]
     },
     "metadata": {},
     "output_type": "display_data"
    }
   ],
   "source": [
    "merged_df['leverage'] = merged_df['Size USD'] / merged_df['Start Position']\n",
    "\n",
    "#  plot\n",
    "sns.boxplot(x='Classification', y='leverage', data=merged_df, palette='pastel')\n",
    "plt.title('Leverage Distribution Across Market Sentiments')\n",
    "plt.show()"
   ]
  },
  {
   "cell_type": "markdown",
   "metadata": {},
   "source": [
    "#### (d) Trade Frequency Analysis "
   ]
  },
  {
   "cell_type": "code",
   "execution_count": 17,
   "metadata": {},
   "outputs": [
    {
     "data": {
      "image/png": "[encoded data removed]",
      "text/plain": [
       "<Figure size 432x288 with 1 Axes>"
      ]
     },
     "metadata": {},
     "output_type": "display_data"
    }
   ],
   "source": [
    "trade_counts = merged_df.groupby(['date','Classification'])['account'].count().reset_index()\n",
    "sns.lineplot(x='date', y='account', hue='Classification', data=trade_counts)\n",
    "plt.title('Trading Volume Over Time (Fear vs Greed)')\n",
    "plt.show()"
   ]
  },
  {
   "cell_type": "markdown",
   "metadata": {},
   "source": [
    "#### (e) Correlation Heatmap "
   ]
  },
  {
   "cell_type": "code",
   "execution_count": 19,
   "metadata": {},
   "outputs": [
    {
     "data": {
      "image/png": "[encoded data removed]",
      "text/plain": [
       "<Figure size 432x288 with 2 Axes>"
      ]
     },
     "metadata": {},
     "output_type": "display_data"
    }
   ],
   "source": [
    "# Compute correlation between Closed PnL and trade size\n",
    "corr = merged_df[['closedPnL', 'Size USD']].corr()\n",
    "\n",
    "# Plot heatmap\n",
    "sns.heatmap(corr, annot=True, cmap='Blues')\n",
    "plt.title('Correlation Matrix: Closed PnL vs Trade Size')\n",
    "plt.show()"
   ]
  },
  {
   "cell_type": "markdown",
   "metadata": {},
   "source": [
    "### 7. Insights and Findings (Markdown) "
   ]
  },
  {
   "cell_type": "markdown",
   "metadata": {},
   "source": [
    "##### 🔹 1. Trader Performance in Fear vs Greed Markets\n",
    "After analyzing the merged dataset, we compared the average Closed PnL (Profit and Loss) for trades executed during Fear and Greed market conditions.\n",
    "\n",
    "- The average PnL during *Greed* periods was generally higher, indicating traders tend to make more profits when overall market sentiment is optimistic.  \n",
    "- However, the variance (spread) of PnL was also larger in Greed phases — meaning higher profits but also higher risks.\n",
    "- During Fear periods, traders showed more conservative behavior, with smaller trade sizes and lower leverage, leading to fewer extreme losses or gains.\n",
    "\n",
    "📈 Conclusion:  \n",
    "Greed periods offer higher potential rewards but with increased volatility, while Fear periods lead to steadier but lower performance outcomes.\n",
    "\n",
    "##### 🔹 2. Leverage Usage and Market Sentiment\n",
    "We analyzed the average leverage used during different sentiment conditions.\n",
    "\n",
    "- Traders used significantly higher leverage during *Greed* phases, showing more confidence or over-optimism in their positions.  \n",
    "- In contrast, Fear periods saw lower average leverage, indicating a more cautious approach.\n",
    "\n",
    "⚖️ Conclusion:  \n",
    "High leverage trading is more common when the market is in a Greed state, which aligns with behavioral finance theories that link overconfidence to bullish markets.\n",
    "\n",
    "##### 🔹 3. Behavioral Patterns and Trading Frequency\n",
    "We examined the number of trades per day per account under each sentiment type.\n",
    "\n",
    "- During Greed, traders exhibited overtrading tendencies — executing more frequent trades, often with higher risk exposure.  \n",
    "- During Fear, trading activity declined, showing a pattern of market hesitation or defensive strategies.\n",
    "\n",
    "📊 Conclusion: \n",
    "Greed environments encourage higher trading frequency and risk-taking, while Fear environments lead to reduced activity and more defensive strategies.\n",
    "\n",
    "\n",
    "##### 🔹 4. Profitability and Risk by Sentiment Type\n",
    "To assess risk-reward profiles, we compared the win ratio (percentage of profitable trades) and PnL volatility across sentiments.\n",
    "\n",
    "| Sentiment | Avg. PnL | PnL Std. Dev. | Win Ratio | Avg. Leverage |\n",
    "|------------|-----------|---------------|------------|----------------|\n",
    "| Fear       | Lower     | Low           | Moderate   | Low            |\n",
    "| Greed      | Higher    | High          | Slightly Higher | High       |\n",
    "\n",
    "💡 Insights:\n",
    "- While Greed periods bring more profits, they also carry more risk (larger losses possible).  \n",
    "- Fear phases may protect traders from heavy losses but limit profit opportunities.  \n",
    "- Optimal strategy may involve reducing leverage during Greed phases to manage risk.\n",
    "\n",
    "##### 🔹 5. Overall Summary\n",
    "- Trader behavior is sentiment-driven.  \n",
    "  Emotional market phases (Fear/Greed) strongly influence decision-making patterns.\n",
    "- Greed → High leverage, overtrading, high profit potential, high risk. \n",
    "- Fear → Conservative trading, reduced volume, stable but smaller returns.\n",
    "- A balanced approach, combining sentiment awareness with disciplined risk management, can lead to more consistent performance."
   ]
  },
  {
   "cell_type": "markdown",
   "metadata": {},
   "source": [
    "### 8. Predictive Modeling "
   ]
  },
  {
   "cell_type": "markdown",
   "metadata": {},
   "source": [
    "We’ll build a simple model to predict whether a trade will be profitable based on leverage, size, and sentiment"
   ]
  },
  {
   "cell_type": "code",
   "execution_count": 23,
   "metadata": {},
   "outputs": [
    {
     "name": "stdout",
     "output_type": "stream",
     "text": [
      "              precision    recall  f1-score   support\n",
      "\n",
      "           0       0.69      0.75      0.72     24802\n",
      "           1       0.60      0.53      0.56     17443\n",
      "\n",
      "    accuracy                           0.66     42245\n",
      "   macro avg       0.65      0.64      0.64     42245\n",
      "weighted avg       0.66      0.66      0.66     42245\n",
      "\n"
     ]
    }
   ],
   "source": [
    "\n",
    "# Compute leverage safely: avoid division by zero\n",
    "merged_df['leverage'] = merged_df.apply(\n",
    "    lambda row: row['Size USD'] / row['Start Position'] if row['Start Position'] != 0 else 0,\n",
    "    axis=1\n",
    ")\n",
    "\n",
    "# Select features\n",
    "X = merged_df[['leverage', 'Size USD', 'sentiment_encoded']].copy()\n",
    "\n",
    "# Convert to numeric and replace inf with 0\n",
    "X = X.apply(pd.to_numeric, errors='coerce').replace([np.inf, -np.inf], 0).fillna(0)\n",
    "\n",
    "# Target variable\n",
    "y = merged_df['profitable'].astype(int)\n",
    "\n",
    "from sklearn.model_selection import train_test_split\n",
    "from sklearn.ensemble import RandomForestClassifier\n",
    "from sklearn.metrics import classification_report\n",
    "\n",
    "X_train, X_test, y_train, y_test = train_test_split(X, y, test_size=0.2, random_state=42)\n",
    "\n",
    "model = RandomForestClassifier(n_estimators=100, random_state=42)\n",
    "model.fit(X_train, y_train)\n",
    "\n",
    "y_pred = model.predict(X_test)\n",
    "print(classification_report(y_test, y_pred))\n"
   ]
  },
  {
   "cell_type": "markdown",
   "metadata": {},
   "source": [
    "### 9. Conclusion and Recommendations  "
   ]
  },
  {
   "cell_type": "markdown",
   "metadata": {},
   "source": [
    "##### 🔹 Summary of Findings\n",
    "This analysis explored the relationship between trader performance and market sentiment using two datasets — the Hyperliquid Trader Data and the Bitcoin Fear-Greed Index.  \n",
    "The key takeaways are:\n",
    "\n",
    "- Trader behavior is heavily influenced by market sentiment.\n",
    "- Greed phases are characterized by:\n",
    "  - Higher trading frequency and larger trade sizes.  \n",
    "  - Greater use of leverage.  \n",
    "  - Higher profit potential, but also higher loss probability.  \n",
    "- Fear phases display:\n",
    "  - More conservative trading patterns.  \n",
    "  - Lower leverage and reduced market activity.  \n",
    "  - Smaller but more stable returns.\n",
    "\n",
    "Overall, traders perform better on average during Greed markets, but the risk-adjusted performance (considering volatility) is often superior in Fear markets due to lower exposure and steadier results.\n",
    "\n",
    "##### 🔹 Recommendations for Smarter Trading Strategies\n",
    "\n",
    "1. Leverage Control:\n",
    "   - Introduce leverage caps or dynamic leverage adjustments based on sentiment data.  \n",
    "   - Use lower leverage during Greed phases to manage volatility.\n",
    "\n",
    "2. Sentiment-Aware Risk Management:  \n",
    "   - Integrate the Fear-Greed Index into trading dashboards as a real-time indicator.  \n",
    "   - Adapt position sizing and stop-loss limits according to sentiment levels.\n",
    "\n",
    "3. Behavioral Monitoring:  \n",
    "   - Track trading frequency anomalies (e.g., overtrading during Greed) to alert traders.  \n",
    "   - Encourage data-driven discipline over emotion-based decisions.\n",
    "\n",
    "4. Portfolio Diversification: \n",
    "   - Combine trades across different sentiment phases to stabilize returns.  \n",
    "   - Use Fear phases for defensive entries and Greed phases for strategic exits.\n",
    "\n",
    "5. Predictive Modeling (Future Scope):  \n",
    "   - Develop a machine learning model to predict trader profitability based on sentiment, leverage, and position data.  \n",
    "   - Use this as a decision-support tool for both traders and portfolio managers.\n",
    "   \n",
    "##### 🔹 Final Thoughts\n",
    "Market sentiment plays a crucial psychological and financial role in trader performance.  \n",
    "By aligning trading strategies with sentiment signals and applying quantitative discipline, traders and firms can enhance profitability, minimize emotional biases, and achieve sustainable success in volatile crypto markets.\n"
   ]
  },
  {
   "cell_type": "markdown",
   "metadata": {},
   "source": [
    "### 10. References and Acknowledgments  "
   ]
  },
  {
   "cell_type": "markdown",
   "metadata": {},
   "source": [
    "#### 📚 7. References and Acknowledgments\n",
    "\n",
    "##### 🔹 References\n",
    "1. Bitcoin Fear and Greed Index Dataset \n",
    "   Source: [Google Drive - Fear Greed Index](https://drive.google.com/file/d/1PgQC0tO8XN-wqkNyghWc_-mnrYv_nhSf/view?usp=sharing)  \n",
    "   Description: Contains daily Bitcoin market sentiment labels — Fear or Greed — based on various market indicators.\n",
    "\n",
    "2. Hyperliquid Historical Trader Data \n",
    "   Source: [Google Drive - Historical Data](https://drive.google.com/file/d/1IAfLZwu6rJzyWKgBToqwSmmVYU6VbjVs/view?usp=sharing)  \n",
    "   Description: Includes trader-level information such as execution price, position size, leverage, profit/loss, and other metrics.\n",
    "\n",
    "3. Supporting Documentation and References  \n",
    "   - [Investopedia – Fear and Greed Index Explained](https://www.investopedia.com/terms/f/fear-and-greed-index.asp)  \n",
    "   - [Kaggle – Market Sentiment and Trading Behavior Studies](https://www.kaggle.com/)  \n",
    "   - Academic references on Behavioral Finance, **Market Psychology, and Crypto Trading Strategies.\n",
    "\n",
    "\n",
    "##### 🔹 Tools and Libraries Used\n",
    "This project was developed using:\n",
    "- Python 3.10+ \n",
    "- Pandas for data manipulation  \n",
    "- NumPy for numerical analysis  \n",
    "- Matplotlib and Seaborn for visualization  \n",
    "- Scikit-learn for exploratory modeling  \n",
    "- Jupyter Notebook  for analysis and presentation\n",
    "\n",
    "##### 🔹 Acknowledgments\n",
    "Special thanks to the Bajarangs and PrimeTrade.ai teams for providing this opportunity to demonstrate analytical and data science skills through a real-world Web3 trading task.\n",
    "\n",
    "Gratitude is also extended to the open-source Python community for the tools and resources that made this analysis possible.\n",
    "\n",
    "📌 This notebook and analysis were prepared as part of the “Junior Data Scientist – Trader Behavior Insights” assignment. All insights are based on exploratory data analysis and are intended for educational and evaluative purposes.\n"
   ]
  },
  {
   "cell_type": "code",
   "execution_count": null,
   "metadata": {},
   "outputs": [],
   "source": []
  }
 ],
 "metadata": {
  "kernelspec": {
   "display_name": "Python 3",
   "language": "python",
   "name": "python3"
  },
  "language_info": {
   "codemirror_mode": {
    "name": "ipython",
    "version": 3
   },
   "file_extension": ".py",
   "mimetype": "text/x-python",
   "name": "python",
   "nbconvert_exporter": "python",
   "pygments_lexer": "ipython3",
   "version": "3.7.6"
  }
 },
 "nbformat": 4,
 "nbformat_minor": 4
}
